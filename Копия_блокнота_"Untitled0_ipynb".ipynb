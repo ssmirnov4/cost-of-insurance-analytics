{
  "nbformat": 4,
  "nbformat_minor": 0,
  "metadata": {
    "colab": {
      "provenance": [],
      "authorship_tag": "ABX9TyMfKDOfV4zfxGPqb/IK4qrM",
      "include_colab_link": true
    },
    "kernelspec": {
      "name": "python3",
      "display_name": "Python 3"
    },
    "language_info": {
      "name": "python"
    }
  },
  "cells": [
    {
      "cell_type": "markdown",
      "metadata": {
        "id": "view-in-github",
        "colab_type": "text"
      },
      "source": [
        "<a href=\"https://colab.research.google.com/github/ssmirnov4/cost-of-insurance-analytics/blob/main/%D0%9A%D0%BE%D0%BF%D0%B8%D1%8F_%D0%B1%D0%BB%D0%BE%D0%BA%D0%BD%D0%BE%D1%82%D0%B0_%22Untitled0_ipynb%22.ipynb\" target=\"_parent\"><img src=\"https://colab.research.google.com/assets/colab-badge.svg\" alt=\"Open In Colab\"/></a>"
      ]
    },
    {
      "cell_type": "markdown",
      "source": [
        "#Задание 1"
      ],
      "metadata": {
        "id": "ijxSB7Bvdonc"
      }
    },
    {
      "cell_type": "markdown",
      "source": [
        "##Работа с библиотекой pandas"
      ],
      "metadata": {
        "id": "49bBX0K1fpWl"
      }
    },
    {
      "cell_type": "markdown",
      "source": [
        "**Цель работы:** познакомиться с использованием библиотеки pandas при решении практических задач, связанных с анализом данных.\n",
        "Проанализируем датасет insurance. Датасет содержит сведения о расходах на страхования. Также информацию о людях и их признаках. Набор данных включает следующие атрибуты:  \n",
        "• age – возраст  \n",
        "• sex – пол  \n",
        "• bmi – индекс массы тела  \n",
        "• children – дети  \n",
        "• smoker – курильщик  \n",
        "• region – регион  \n",
        "• charges – расходы на страхование"
      ],
      "metadata": {
        "id": "P6FWN6jCf3Ju"
      }
    },
    {
      "cell_type": "markdown",
      "source": [
        "###1. Импортируйте необходимые библиотеки"
      ],
      "metadata": {
        "id": "4yIDirglh5vv"
      }
    },
    {
      "cell_type": "code",
      "source": [
        "import numpy as np\n",
        "import pandas as pd"
      ],
      "metadata": {
        "id": "cQr6BeF3iIPF"
      },
      "execution_count": null,
      "outputs": []
    },
    {
      "cell_type": "markdown",
      "source": [
        "###2. Импортируйте набор данных из файла insurance.csv и поместите его в объект DataFrame"
      ],
      "metadata": {
        "id": "zEr8TgKaiULO"
      }
    },
    {
      "cell_type": "code",
      "source": [
        "df = pd.read_csv('insurance.csv')"
      ],
      "metadata": {
        "id": "qZx9LL5rioVO"
      },
      "execution_count": null,
      "outputs": []
    },
    {
      "cell_type": "markdown",
      "source": [
        "###3.Выведите 10 первых строк"
      ],
      "metadata": {
        "id": "y0WOfxC4i2X4"
      }
    },
    {
      "cell_type": "code",
      "source": [
        "print(df.head(10))"
      ],
      "metadata": {
        "colab": {
          "base_uri": "https://localhost:8080/"
        },
        "id": "Ml44KMZKi99A",
        "outputId": "67373da5-732b-4c41-c9a5-edad28f281dd"
      },
      "execution_count": null,
      "outputs": [
        {
          "output_type": "stream",
          "name": "stdout",
          "text": [
            "   age     sex     bmi  children smoker     region      charges\n",
            "0   19  female  27.900         0    yes  southwest  16884.92400\n",
            "1   18    male  33.770         1     no  southeast   1725.55230\n",
            "2   28    male  33.000         3     no  southeast   4449.46200\n",
            "3   33    male  22.705         0     no  northwest  21984.47061\n",
            "4   32    male  28.880         0     no  northwest   3866.85520\n",
            "5   31  female  25.740         0     no  southeast   3756.62160\n",
            "6   46  female  33.440         1     no  southeast   8240.58960\n",
            "7   37  female  27.740         3     no  northwest   7281.50560\n",
            "8   37    male  29.830         2     no  northeast   6406.41070\n",
            "9   60  female  25.840         0     no  northwest  28923.13692\n"
          ]
        }
      ]
    },
    {
      "cell_type": "markdown",
      "source": [
        "###4.Сколько строк и столбцов в наборе данных?"
      ],
      "metadata": {
        "id": "4sEaYjYkjR3p"
      }
    },
    {
      "cell_type": "code",
      "source": [
        "print(\"Количество строк:\", df.shape[0])\n",
        "print(\"Количество столбцов:\", df.shape[1])"
      ],
      "metadata": {
        "colab": {
          "base_uri": "https://localhost:8080/"
        },
        "id": "BkbdTJKtjaaA",
        "outputId": "52ca0571-8b71-4f96-fe9f-a63ba531bfe5"
      },
      "execution_count": null,
      "outputs": [
        {
          "output_type": "stream",
          "name": "stdout",
          "text": [
            "Количество строк: 1338\n",
            "Количество столбцов: 7\n"
          ]
        }
      ]
    },
    {
      "cell_type": "markdown",
      "source": [
        "###5.Получите сводную информацию по датафрейму"
      ],
      "metadata": {
        "id": "YRY5L352j63w"
      }
    },
    {
      "cell_type": "code",
      "source": [
        "df.info()"
      ],
      "metadata": {
        "colab": {
          "base_uri": "https://localhost:8080/"
        },
        "id": "rgMwxJSWj_Hs",
        "outputId": "db7b3c5b-0a5a-4f5d-9715-ebec99157e3d"
      },
      "execution_count": null,
      "outputs": [
        {
          "output_type": "stream",
          "name": "stdout",
          "text": [
            "<class 'pandas.core.frame.DataFrame'>\n",
            "RangeIndex: 1338 entries, 0 to 1337\n",
            "Data columns (total 7 columns):\n",
            " #   Column    Non-Null Count  Dtype  \n",
            "---  ------    --------------  -----  \n",
            " 0   age       1338 non-null   int64  \n",
            " 1   sex       1338 non-null   object \n",
            " 2   bmi       1338 non-null   float64\n",
            " 3   children  1338 non-null   int64  \n",
            " 4   smoker    1338 non-null   object \n",
            " 5   region    1338 non-null   object \n",
            " 6   charges   1338 non-null   float64\n",
            "dtypes: float64(2), int64(2), object(3)\n",
            "memory usage: 73.3+ KB\n"
          ]
        }
      ]
    },
    {
      "cell_type": "markdown",
      "source": [
        "###6. Что является индексом этого набора данных?"
      ],
      "metadata": {
        "id": "yThssqU3kH2j"
      }
    },
    {
      "cell_type": "code",
      "source": [
        "df.index"
      ],
      "metadata": {
        "colab": {
          "base_uri": "https://localhost:8080/"
        },
        "id": "YDFbgfRskJZQ",
        "outputId": "575ccf83-78e9-4c84-d493-f07095301691"
      },
      "execution_count": null,
      "outputs": [
        {
          "output_type": "execute_result",
          "data": {
            "text/plain": [
              "RangeIndex(start=0, stop=1338, step=1)"
            ]
          },
          "metadata": {},
          "execution_count": 9
        }
      ]
    },
    {
      "cell_type": "markdown",
      "source": [
        "###7. Проверьте набор данных на наличие отсутствующих значений и дубликатов строк. При наличии обработайте их тем или иным способом."
      ],
      "metadata": {
        "id": "lw9ndN6vkSyV"
      }
    },
    {
      "cell_type": "code",
      "source": [
        "duplicates = df[df.duplicated()]\n",
        "print(duplicates)"
      ],
      "metadata": {
        "colab": {
          "base_uri": "https://localhost:8080/"
        },
        "id": "t-ZmnAHhkXDc",
        "outputId": "696e4669-bc79-4af0-ba70-1c8a4f3378a5"
      },
      "execution_count": null,
      "outputs": [
        {
          "output_type": "stream",
          "name": "stdout",
          "text": [
            "     age   sex    bmi  children smoker     region    charges\n",
            "581   19  male  30.59         0     no  northwest  1639.5631\n"
          ]
        }
      ]
    },
    {
      "cell_type": "code",
      "source": [
        "print(df.isnull().sum())"
      ],
      "metadata": {
        "colab": {
          "base_uri": "https://localhost:8080/"
        },
        "id": "tAN-XJHuk1O1",
        "outputId": "68460dd9-f816-4e5e-9e40-4e820f4102c1"
      },
      "execution_count": null,
      "outputs": [
        {
          "output_type": "stream",
          "name": "stdout",
          "text": [
            "age         0\n",
            "sex         0\n",
            "bmi         0\n",
            "children    0\n",
            "smoker      0\n",
            "region      0\n",
            "charges     0\n",
            "dtype: int64\n"
          ]
        }
      ]
    },
    {
      "cell_type": "code",
      "source": [
        "# удаление дубликатов\n",
        "df = df.drop_duplicates()\n",
        "duplicates = df[df.duplicated()]\n",
        "print(duplicates)"
      ],
      "metadata": {
        "colab": {
          "base_uri": "https://localhost:8080/"
        },
        "id": "ipT1K1xtlgCU",
        "outputId": "a1bac73b-82b4-44b7-f6bc-12bd74e635c3"
      },
      "execution_count": null,
      "outputs": [
        {
          "output_type": "stream",
          "name": "stdout",
          "text": [
            "Empty DataFrame\n",
            "Columns: [age, sex, bmi, children, smoker, region, charges]\n",
            "Index: []\n"
          ]
        }
      ]
    },
    {
      "cell_type": "markdown",
      "source": [
        "###8. Кто больше тратит на страхование – мужчины или женщины?"
      ],
      "metadata": {
        "id": "ylrxq1ualtgs"
      }
    },
    {
      "cell_type": "code",
      "source": [
        "print(df.groupby(\"sex\")[\"charges\"].mean())\n"
      ],
      "metadata": {
        "colab": {
          "base_uri": "https://localhost:8080/"
        },
        "id": "v8CGiPYfluyd",
        "outputId": "8a01501a-c1eb-49ef-9e5f-35e6dfbf23e2"
      },
      "execution_count": null,
      "outputs": [
        {
          "output_type": "stream",
          "name": "stdout",
          "text": [
            "sex\n",
            "female    12569.578844\n",
            "male      13974.998864\n",
            "Name: charges, dtype: float64\n"
          ]
        }
      ]
    },
    {
      "cell_type": "markdown",
      "source": [
        "###9. Существует ли взаимосвязь между индексом массы тела и расходами на страхование? Между курением и расходами на страхование?"
      ],
      "metadata": {
        "id": "J_BYtmT0mc40"
      }
    },
    {
      "cell_type": "code",
      "source": [
        "import pandas as pd\n",
        "\n",
        "bins = [0, 16, 18.5, 25, df[\"bmi\"].max()]\n",
        "labels = [\n",
        "    \"Выраженный дефицит\",\n",
        "    \"Недостаточный вес\",\n",
        "    \"Нормальная масса\",\n",
        "    \"Свыше нормы\"\n",
        "]\n",
        "\n",
        "df[\"bmi_group\"] = pd.cut(df[\"bmi\"], bins=bins, labels=labels, right=True, include_lowest=True)\n",
        "\n",
        "# Считаем средние расходы в каждой категории BMI\n",
        "result = df.groupby(\"bmi_group\")[\"charges\"].mean()\n",
        "print (result)\n",
        "# Средние расходы курящих\n",
        "print(\"Средние расходы на курение:\")\n",
        "print(df.groupby(\"smoker\")[\"charges\"].mean())"
      ],
      "metadata": {
        "colab": {
          "base_uri": "https://localhost:8080/"
        },
        "id": "AV_LwjnhoyBE",
        "outputId": "5a07ff99-08ac-4254-88c8-3fd512e66db9"
      },
      "execution_count": null,
      "outputs": [
        {
          "output_type": "stream",
          "name": "stdout",
          "text": [
            "\n",
            " bmi_group\n",
            "Выраженный дефицит     1694.796400\n",
            "Недостаточный вес      9005.761865\n",
            "Нормальная масса      10435.440719\n",
            "Свыше нормы           13957.766781\n",
            "Name: charges, dtype: float64\n",
            "Средние расходы на курение:\n",
            "smoker\n",
            "no      8440.660307\n",
            "yes    32050.231832\n",
            "Name: charges, dtype: float64\n"
          ]
        },
        {
          "output_type": "stream",
          "name": "stderr",
          "text": [
            "/tmp/ipython-input-204677998.py:14: FutureWarning: The default of observed=False is deprecated and will be changed to True in a future version of pandas. Pass observed=False to retain current behavior or observed=True to adopt the future default and silence this warning.\n",
            "  result = df.groupby(\"bmi_group\")[\"charges\"].mean()\n"
          ]
        }
      ]
    },
    {
      "cell_type": "markdown",
      "source": [
        "###10.Выведите TOP-5 жителей, имеющих максимальные расходы на страхование и TOP-5 жителей, имеющих минимальные расходы"
      ],
      "metadata": {
        "id": "oG3JS_AUqC21"
      }
    },
    {
      "cell_type": "code",
      "source": [
        "# TOP-5 жителей с максимальными расходами\n",
        "top5_max = df.sort_values(by=\"charges\", ascending=False).head(5)\n",
        "print(\"ТОП-5 с максимальными расходами:\")\n",
        "print(top5_max, \"\\n\")\n",
        "\n",
        "# TOP-5 жителей с минимальными расходами\n",
        "top5_min = df.sort_values(by=\"charges\", ascending=True).head(5)\n",
        "print(\"ТОП-5 с минимальными расходами:\")\n",
        "print(top5_min)\n"
      ],
      "metadata": {
        "colab": {
          "base_uri": "https://localhost:8080/"
        },
        "id": "79ZAtdaOqE7r",
        "outputId": "adcf67c7-f75f-463c-873e-3ca5aa5c83ab"
      },
      "execution_count": null,
      "outputs": [
        {
          "output_type": "stream",
          "name": "stdout",
          "text": [
            "ТОП-5 с максимальными расходами:\n",
            "      age     sex     bmi  children smoker     region      charges  \\\n",
            "543    54  female  47.410         0    yes  southeast  63770.42801   \n",
            "1300   45    male  30.360         0    yes  southeast  62592.87309   \n",
            "1230   52    male  34.485         3    yes  northwest  60021.39897   \n",
            "577    31  female  38.095         1    yes  northeast  58571.07448   \n",
            "819    33  female  35.530         0    yes  northwest  55135.40209   \n",
            "\n",
            "        bmi_group  \n",
            "543   Свыше нормы  \n",
            "1300  Свыше нормы  \n",
            "1230  Свыше нормы  \n",
            "577   Свыше нормы  \n",
            "819   Свыше нормы   \n",
            "\n",
            "ТОП-5 с минимальными расходами:\n",
            "      age   sex    bmi  children smoker     region    charges  \\\n",
            "940    18  male  23.21         0     no  southeast  1121.8739   \n",
            "808    18  male  30.14         0     no  southeast  1131.5066   \n",
            "1244   18  male  33.33         0     no  southeast  1135.9407   \n",
            "663    18  male  33.66         0     no  southeast  1136.3994   \n",
            "22     18  male  34.10         0     no  southeast  1137.0110   \n",
            "\n",
            "             bmi_group  \n",
            "940   Нормальная масса  \n",
            "808        Свыше нормы  \n",
            "1244       Свыше нормы  \n",
            "663        Свыше нормы  \n",
            "22         Свыше нормы  \n"
          ]
        }
      ]
    },
    {
      "cell_type": "markdown",
      "source": [
        "###11.Определите, в каком регионе жители больше всего расходуют на страхование"
      ],
      "metadata": {
        "id": "L5Up2AKIqboA"
      }
    },
    {
      "cell_type": "code",
      "source": [
        "region_mean = df.groupby(\"region\")[\"charges\"].mean().sort_values(ascending=False) #средние расходы по регионам\n",
        "\n",
        "#регион с самыми большими расходами\n",
        "max_region = region_mean.idxmax()\n",
        "print(f\"\\nБольше всего тратят жители региона: {max_region}\")"
      ],
      "metadata": {
        "colab": {
          "base_uri": "https://localhost:8080/"
        },
        "id": "sWeXZp1eqehG",
        "outputId": "e81f9d3e-89d8-4b6a-9725-34eb5cf28213"
      },
      "execution_count": null,
      "outputs": [
        {
          "output_type": "stream",
          "name": "stdout",
          "text": [
            "\n",
            "Больше всего тратят жители региона: southeast\n"
          ]
        }
      ]
    },
    {
      "cell_type": "markdown",
      "source": [
        "###12.Как влияет количество детей на расходы по страхованию?"
      ],
      "metadata": {
        "id": "ShFW_CtRqvkd"
      }
    },
    {
      "cell_type": "code",
      "source": [
        "#средние расходы по количеству детей\n",
        "children_mean = df.groupby(\"children\")[\"charges\"].mean()\n",
        "print(\"Средние расходы по числу детей:\")\n",
        "print(children_mean)\n",
        "\n",
        "#медианные расходы по количеству детей\n",
        "children_median = df.groupby(\"children\")[\"charges\"].median()\n",
        "print(\"\\nМедианные расходы по числу детей:\")\n",
        "print(children_median)\n"
      ],
      "metadata": {
        "colab": {
          "base_uri": "https://localhost:8080/"
        },
        "id": "hruwp3IUq0Nw",
        "outputId": "10543d66-b369-469e-9763-5b2f8dab9c86"
      },
      "execution_count": null,
      "outputs": [
        {
          "output_type": "stream",
          "name": "stdout",
          "text": [
            "Средние расходы по числу детей:\n",
            "children\n",
            "0    12384.695344\n",
            "1    12731.171832\n",
            "2    15073.563734\n",
            "3    15355.318367\n",
            "4    13850.656311\n",
            "5     8786.035247\n",
            "Name: charges, dtype: float64\n",
            "\n",
            "Медианные расходы по числу детей:\n",
            "children\n",
            "0     9863.47180\n",
            "1     8483.87015\n",
            "2     9264.97915\n",
            "3    10600.54830\n",
            "4    11033.66170\n",
            "5     8589.56505\n",
            "Name: charges, dtype: float64\n"
          ]
        }
      ]
    },
    {
      "cell_type": "markdown",
      "source": [
        "###13.Вычислите для столбца bmi среднее значение, моду, медиану, дисперсию и среднеквадратичное отклонение"
      ],
      "metadata": {
        "id": "xqvcTYOprZR8"
      }
    },
    {
      "cell_type": "code",
      "source": [
        "\n",
        "mean_bmi = df[\"bmi\"].mean()\n",
        "mode_bmi = df[\"bmi\"].mode()[0]\n",
        "median_bmi = df[\"bmi\"].median()\n",
        "var_bmi = df[\"bmi\"].var()\n",
        "std_bmi = df[\"bmi\"].std()\n",
        "\n",
        "print(f\"Среднее значение: {mean_bmi:.2f}\")\n",
        "print(f\"Мода: {mode_bmi:.2f}\")\n",
        "print(f\"Медиана: {median_bmi:.2f}\")\n",
        "print(f\"Дисперсия: {var_bmi:.2f}\")\n",
        "print(f\"Среднеквадратичное отклонение: {std_bmi:.2f}\")\n"
      ],
      "metadata": {
        "colab": {
          "base_uri": "https://localhost:8080/"
        },
        "id": "LCXGvWJErfPi",
        "outputId": "a3d2269d-7ebc-463c-fcb8-a27413965b33"
      },
      "execution_count": null,
      "outputs": [
        {
          "output_type": "stream",
          "name": "stdout",
          "text": [
            "Среднее значение: 30.66\n",
            "Мода: 32.30\n",
            "Медиана: 30.40\n",
            "Дисперсия: 37.22\n",
            "Среднеквадратичное отклонение: 6.10\n"
          ]
        }
      ]
    },
    {
      "cell_type": "markdown",
      "source": [
        "###14.Вычислите для столбца charges среднее значение, моду, медиану, дисперсию и среднеквадратичное отклонение"
      ],
      "metadata": {
        "id": "uUUzOUfNsJ43"
      }
    },
    {
      "cell_type": "code",
      "source": [
        "mean_charges = df[\"charges\"].mean()\n",
        "mode_charges = df[\"charges\"].mode()[0]\n",
        "median_charges = df[\"charges\"].median()\n",
        "var_charges = df[\"charges\"].var()\n",
        "std_charges = df[\"charges\"].std()\n",
        "\n",
        "print(f\"Среднее значение: {mean_charges:.4f}\")\n",
        "print(f\"Мода: {mode_charges:.4f}\")\n",
        "print(f\"Медиана: {median_charges:.4f}\")\n",
        "print(f\"Дисперсия: {var_charges:.4f}\")\n",
        "print(f\"Среднеквадратичное отклонение: {std_charges:.4f}\")\n"
      ],
      "metadata": {
        "colab": {
          "base_uri": "https://localhost:8080/"
        },
        "id": "lgl1pAoNsMnq",
        "outputId": "50643d6e-fa2b-4af9-ca9e-ac8c426fa99c"
      },
      "execution_count": null,
      "outputs": [
        {
          "output_type": "stream",
          "name": "stdout",
          "text": [
            "Среднее значение: 13279.1215\n",
            "Мода: 1121.8739\n",
            "Медиана: 9386.1613\n",
            "Дисперсия: 146660811.0060\n",
            "Среднеквадратичное отклонение: 12110.3597\n"
          ]
        }
      ]
    }
  ]
}